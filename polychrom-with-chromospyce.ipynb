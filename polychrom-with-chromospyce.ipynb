{
 "cells": [
  {
   "cell_type": "code",
   "execution_count": null,
   "id": "28435be2-49c4-4684-9b5b-2c91c42841d0",
   "metadata": {},
   "outputs": [],
   "source": [
    "import openmm"
   ]
  },
  {
   "cell_type": "code",
   "execution_count": null,
   "id": "c99d0ddf-a313-4a1f-b30f-d67b626c6107",
   "metadata": {},
   "outputs": [],
   "source": [
    "import polychrom\n",
    "from polychrom import starting_conformations\n",
    "from polychrom import polymerutils\n",
    "from polychrom import forces\n",
    "from polychrom import forcekits\n",
    "from polychrom.simulation import Simulation\n",
    "from polychrom import contactmaps"
   ]
  },
  {
   "cell_type": "code",
   "execution_count": null,
   "id": "1c0afc08-7ddb-4f70-86c5-33a78da3049f",
   "metadata": {},
   "outputs": [],
   "source": [
    "import nglutils.nglutils as ngu # from https://github.com/mirnylab/nglutils\n",
    "import nglview as nv\n",
    "import numpy as np\n",
    "import matplotlib.pyplot as plt"
   ]
  },
  {
   "cell_type": "code",
   "execution_count": null,
   "id": "cddd965d-0086-4001-a74f-c6ca7adf60f2",
   "metadata": {},
   "outputs": [],
   "source": [
    "import chromospyce"
   ]
  },
  {
   "cell_type": "markdown",
   "id": "9ae8adf4-4e3d-4d02-8462-b58906502e96",
   "metadata": {},
   "source": [
    "## Chromatin structure simulations\n",
    "\n",
    "### 1. Initial conformation"
   ]
  },
  {
   "cell_type": "code",
   "execution_count": null,
   "id": "c06d1582-b78c-4dde-bc93-4c32c389a78d",
   "metadata": {},
   "outputs": [],
   "source": [
    "# Number of monomers in a single chain of polymer\n",
    "N = 1000"
   ]
  },
  {
   "cell_type": "code",
   "execution_count": null,
   "id": "1d722f86-3871-4f8b-b25a-8818a43a496b",
   "metadata": {},
   "outputs": [],
   "source": [
    "# Random walk creates very large conformations with low density of points. \n",
    "xyz = starting_conformations.create_random_walk(1, N)\n",
    "view_simple = ngu.xyz2nglview(xyz)\n",
    "view_simple"
   ]
  },
  {
   "cell_type": "code",
   "execution_count": null,
   "id": "9edbe1fd-9bfa-47b0-a7dc-2b84f3996f13",
   "metadata": {},
   "outputs": [],
   "source": [
    "# Display the structure in a chromospyce widget\n",
    "chromospyce.Widget(xyz)"
   ]
  },
  {
   "cell_type": "code",
   "execution_count": null,
   "id": "e9d74414-ee04-4065-863b-424d79da0c26",
   "metadata": {},
   "outputs": [],
   "source": [
    "# To initialize a compact structure, use self-avoiding random walk on cubic grid\n",
    "xyz = polychrom.starting_conformations.grow_cubic(N=N, boxSize=50, method='standard')\n",
    "print(xyz)\n",
    "view_simple = ngu.xyz2nglview(xyz)\n",
    "view_simple"
   ]
  },
  {
   "cell_type": "code",
   "execution_count": null,
   "id": "b990a3cb-54ae-486f-a7f0-52c0d6db988a",
   "metadata": {},
   "outputs": [],
   "source": [
    "vc = {\n",
    "    \"color\": \"red\",\n",
    "}\n",
    "chromospyce.Widget(xyz, vc)"
   ]
  },
  {
   "cell_type": "markdown",
   "id": "694f7d56-2cdb-4166-b80a-df441ddd27e7",
   "metadata": {},
   "source": [
    "### 2. Forces"
   ]
  },
  {
   "cell_type": "code",
   "execution_count": null,
   "id": "eb4c0667-d481-447a-99a0-7d7ed68dee87",
   "metadata": {},
   "outputs": [],
   "source": [
    "# Let's increase the number of monomers\n",
    "N = 4000"
   ]
  },
  {
   "cell_type": "code",
   "execution_count": null,
   "id": "30df9344-ee69-4ffe-8628-e0a3434b2c07",
   "metadata": {},
   "outputs": [],
   "source": [
    "dens = 0.1\n",
    "box = (N / dens) ** 0.33  # adjust for the polymer density\n",
    "data = polychrom.starting_conformations.grow_cubic(N, int(box) - 2)  # create compact structure\n",
    "\n",
    "a = Simulation(\n",
    "        # platform=\"cuda\",\n",
    "        platform=\"cpu\",\n",
    "        integrator=\"variableLangevin\",\n",
    "        error_tol=0.01,\n",
    "        GPU = \"0\",\n",
    "        collision_rate=0.03,\n",
    "        N = len(data),\n",
    "        PBCbox=[box, box, box],\n",
    "        precision=\"mixed\")\n",
    "\n",
    "a.set_data(data)  # load the data into the simulations object\n",
    "\n",
    "a.add_force(\n",
    "    forcekits.polymer_chains(\n",
    "        a,\n",
    "        chains=[(0, None, 0)],\n",
    "        bond_force_func=forces.harmonic_bonds,\n",
    "        bond_force_kwargs={\n",
    "            'bondLength':1.0,\n",
    "            'bondWiggleDistance':0.1,\n",
    "          },\n",
    "\n",
    "        angle_force_func=forces.angle_force,\n",
    "        angle_force_kwargs={\n",
    "            'k':1.5\n",
    "        },\n",
    "\n",
    "        nonbonded_force_func=forces.polynomial_repulsive,\n",
    "        nonbonded_force_kwargs={\n",
    "            'trunc':1.5,\n",
    "            'radiusMult':1.05,\n",
    "        },\n",
    "\n",
    "        except_bonds=True,\n",
    "\n",
    "    )\n",
    ")\n",
    "a.local_energy_minimization()"
   ]
  },
  {
   "cell_type": "code",
   "execution_count": null,
   "id": "d41d03aa-f8f1-4aeb-8ca3-0b5cafd170ef",
   "metadata": {},
   "outputs": [],
   "source": [
    "view_simple = ngu.xyz2nglview(data)\n",
    "view_simple"
   ]
  },
  {
   "cell_type": "code",
   "execution_count": null,
   "id": "01974a98-965e-411f-afae-20f1114d311e",
   "metadata": {},
   "outputs": [],
   "source": [
    "data = a.get_data()\n",
    "view_simple = ngu.xyz2nglview(data)\n",
    "view_simple"
   ]
  },
  {
   "cell_type": "code",
   "execution_count": null,
   "id": "77a15fde-8109-4eef-940a-c32de19c3dbc",
   "metadata": {},
   "outputs": [],
   "source": [
    "chromospyce.Widget(data)"
   ]
  },
  {
   "cell_type": "code",
   "execution_count": null,
   "id": "bc4d04dd-b702-4cdf-83a3-e19fb7ddb957",
   "metadata": {},
   "outputs": [],
   "source": [
    "a.do_block(steps=1000)\n",
    "data = a.get_data()\n",
    "view_simple = ngu.xyz2nglview(data)\n",
    "view_simple"
   ]
  },
  {
   "cell_type": "code",
   "execution_count": null,
   "id": "2fa80023-8ea4-49d9-9910-865ac6798127",
   "metadata": {},
   "outputs": [],
   "source": [
    "chromospyce.Widget(data)"
   ]
  },
  {
   "cell_type": "code",
   "execution_count": null,
   "id": "0a8d9827-168a-4b44-ae86-2e2d01c4c422",
   "metadata": {},
   "outputs": [],
   "source": []
  }
 ],
 "metadata": {
  "kernelspec": {
   "display_name": "Python 3 (ipykernel)",
   "language": "python",
   "name": "python3"
  },
  "language_info": {
   "codemirror_mode": {
    "name": "ipython",
    "version": 3
   },
   "file_extension": ".py",
   "mimetype": "text/x-python",
   "name": "python",
   "nbconvert_exporter": "python",
   "pygments_lexer": "ipython3",
   "version": "3.12.6"
  }
 },
 "nbformat": 4,
 "nbformat_minor": 5
}
